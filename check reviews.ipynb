{
 "cells": [
  {
   "cell_type": "code",
   "execution_count": 1,
   "metadata": {},
   "outputs": [],
   "source": [
    "import WordFeatures\n",
    "from joblib import load\n",
    "\n",
    "clf=load('classifier.joblib')\n",
    "vec=load('vectorizer.joblib')"
   ]
  },
  {
   "cell_type": "code",
   "execution_count": 2,
   "metadata": {},
   "outputs": [],
   "source": [
    "def check():\n",
    "    ch=input('enter your review:\\n')\n",
    "    ch=WordFeatures.word_features(ch)\n",
    "    ch=[ch]\n",
    "    ch=vec.transform(ch)\n",
    "    di={1:'positive review',0:'negative review'}\n",
    "    print('\\n\\n',di[int(clf.predict(ch))])    "
   ]
  },
  {
   "cell_type": "code",
   "execution_count": 3,
   "metadata": {},
   "outputs": [
    {
     "name": "stdout",
     "output_type": "stream",
     "text": [
      "enter your review:\n",
      "I wanted to like The Nun but damn this movie was garbage. Sure it was shot nicely and the acting was fine, but good grief the story was dull as dish water. Full of cheap scares and a dumb, dragging plot. The nun character was far scarier in The Conjuring movies.\n",
      "\n",
      "\n",
      " negative review\n"
     ]
    }
   ],
   "source": [
    "check()"
   ]
  },
  {
   "cell_type": "code",
   "execution_count": 4,
   "metadata": {},
   "outputs": [
    {
     "name": "stdout",
     "output_type": "stream",
     "text": [
      "enter your review:\n",
      "I wanted to like The Nun but damn this movie was garbage. Sure it was shot nicely and the acting was fine, but good grief the story was dull as dish water. Full of cheap scares and a dumb, dragging plot. The nun character was far scarier in The Conjuring movies.\n",
      "\n",
      "\n",
      " negative review\n"
     ]
    }
   ],
   "source": [
    "check()"
   ]
  },
  {
   "cell_type": "code",
   "execution_count": 4,
   "metadata": {},
   "outputs": [
    {
     "name": "stdout",
     "output_type": "stream",
     "text": [
      "enter your review:\n",
      "amazing performance,really loved it\n",
      "\n",
      "\n",
      " positive review\n"
     ]
    }
   ],
   "source": [
    "check()"
   ]
  },
  {
   "cell_type": "code",
   "execution_count": 5,
   "metadata": {},
   "outputs": [
    {
     "name": "stdout",
     "output_type": "stream",
     "text": [
      "enter your review:\n",
      "i did not not like it\n",
      "\n",
      "\n",
      " positive review\n"
     ]
    }
   ],
   "source": [
    "check()\n"
   ]
  },
  {
   "cell_type": "code",
   "execution_count": 3,
   "metadata": {},
   "outputs": [
    {
     "name": "stdout",
     "output_type": "stream",
     "text": [
      "enter your review:\n",
      "it was an okay movie\n",
      "\n",
      "\n",
      " negative review\n"
     ]
    }
   ],
   "source": [
    "check()\n"
   ]
  },
  {
   "cell_type": "code",
   "execution_count": null,
   "metadata": {},
   "outputs": [],
   "source": []
  },
  {
   "cell_type": "code",
   "execution_count": null,
   "metadata": {},
   "outputs": [],
   "source": []
  }
 ],
 "metadata": {
  "kernelspec": {
   "display_name": "Python 3",
   "language": "python",
   "name": "python3"
  },
  "language_info": {
   "codemirror_mode": {
    "name": "ipython",
    "version": 3
   },
   "file_extension": ".py",
   "mimetype": "text/x-python",
   "name": "python",
   "nbconvert_exporter": "python",
   "pygments_lexer": "ipython3",
   "version": "3.7.3"
  }
 },
 "nbformat": 4,
 "nbformat_minor": 2
}
